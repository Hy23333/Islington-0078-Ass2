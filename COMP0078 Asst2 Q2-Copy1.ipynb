{
 "cells": [
  {
   "cell_type": "markdown",
   "metadata": {},
   "source": [
    "# Sparse learning"
   ]
  },
  {
   "cell_type": "markdown",
   "metadata": {},
   "source": [
    "#### Library"
   ]
  },
  {
   "cell_type": "code",
   "execution_count": 1,
   "metadata": {},
   "outputs": [],
   "source": [
    "import matplotlib.pyplot as plt\n",
    "import numpy as np\n",
    "import pandas as pd"
   ]
  },
  {
   "cell_type": "markdown",
   "metadata": {},
   "source": [
    "#### Help function 1"
   ]
  },
  {
   "cell_type": "code",
   "execution_count": 2,
   "metadata": {},
   "outputs": [],
   "source": [
    "def sign(X):\n",
    "    \"\"\"\n",
    "    Input: Vector\n",
    "    Output: Vector which values are -1 and 1\n",
    "    \"\"\"\n",
    "    result = np.where(X > 0, 1, -1)\n",
    "\n",
    "    return result"
   ]
  },
  {
   "cell_type": "code",
   "execution_count": 3,
   "metadata": {},
   "outputs": [],
   "source": [
    "def initialization(M, N, winnow=False):\n",
    "    \"\"\"\n",
    "    Input:\n",
    "    M: number of samples\n",
    "    N: dimension of samples\n",
    "    winnow: if we need -1, 1 or 0, 1\n",
    "\n",
    "    Return:\n",
    "    Randomized X and Y\n",
    "    \"\"\"\n",
    "    X = np.random.randint(2, size=(M, N))\n",
    "    if not winnow:\n",
    "        X = np.where(X == 0, -1, 1)\n",
    "\n",
    "    Y = X[:, 0]\n",
    "\n",
    "    return X, Y"
   ]
  },
  {
   "cell_type": "code",
   "execution_count": 5,
   "metadata": {},
   "outputs": [],
   "source": [
    "def test_error(Y_test, Yhat_test):\n",
    "    \"\"\"\n",
    "    Input:\n",
    "    Y_test: M_test length vector\n",
    "    Yhat_test: M_test length vector\n",
    "\n",
    "    Return:\n",
    "    mean test error\n",
    "    \"\"\"\n",
    "    M_test = len(Y_test)\n",
    "\n",
    "    assert len(Yhat_test) == M_test, \"Yhat_test length = {}, shoud be {}\".format(\n",
    "        len(Yhat_test), M_test\n",
    "    )\n",
    "\n",
    "    # entry is 1 if different\n",
    "    error_bool = Y_test != Yhat_test\n",
    "\n",
    "    # count mean error\n",
    "    error = np.count_nonzero(error_bool) / M_test\n",
    "\n",
    "    return error"
   ]
  },
  {
   "cell_type": "markdown",
   "metadata": {},
   "source": [
    "## Main codes"
   ]
  },
  {
   "cell_type": "markdown",
   "metadata": {},
   "source": [
    "### Perceptron"
   ]
  },
  {
   "cell_type": "code",
   "execution_count": 6,
   "metadata": {},
   "outputs": [],
   "source": [
    "def perceptron(X_train, Y_train, X_test, Y_test, printf=False):\n",
    "    \"\"\"\n",
    "    Input:\n",
    "    X: M * N, values from {-1, 1}^N\n",
    "    Y: M length vector\n",
    "    X_test, Y_test: test data\n",
    "\n",
    "    Return:\n",
    "    mean_squared error\n",
    "    \"\"\"\n",
    "    M, N = X_train.shape\n",
    "\n",
    "    weight = np.zeros(N)\n",
    "\n",
    "    \"\"\"\n",
    "    Traning\n",
    "    \"\"\"\n",
    "    for t in range(M):\n",
    "        # Specify data to use and label to predict\n",
    "        yt = Y_train[t]\n",
    "        xt = X_train[t, :]\n",
    "        ythat = sign(np.dot(xt, weight))\n",
    "\n",
    "        # Update weight\n",
    "        if yt * ythat <= 0:\n",
    "            weight = weight + yt * xt\n",
    "\n",
    "    \"\"\"\n",
    "    Test\n",
    "    \"\"\"\n",
    "    Yhat_test = sign(np.dot(X_test, weight))\n",
    "    Yhat_test = np.reshape(Yhat_test, -1)\n",
    "\n",
    "    # Get test error\n",
    "    error = test_error(Y_test, Yhat_test)\n",
    "\n",
    "    return error"
   ]
  },
  {
   "cell_type": "markdown",
   "metadata": {},
   "source": [
    "### Winnow"
   ]
  },
  {
   "cell_type": "code",
   "execution_count": 8,
   "metadata": {},
   "outputs": [],
   "source": [
    "def winnow_sign(X):\n",
    "    result = np.where(X < 0, 0, 1)\n",
    "    return result"
   ]
  },
  {
   "cell_type": "code",
   "execution_count": 9,
   "metadata": {},
   "outputs": [],
   "source": [
    "def winnow(X_train, Y_train, X_test, Y_test):\n",
    "    \"\"\"\n",
    "    Input:\n",
    "    X: M * N, values from {-1, 1}^N\n",
    "    Y: M length vector\n",
    "    X_test, Y_test: test data\n",
    "\n",
    "    Return:\n",
    "    mean_squared error\n",
    "    \"\"\"\n",
    "    (M,N) = np.shape(X_train)\n",
    "    weight = np.ones(N) # initialise weights to ones --Mark\n",
    "    weight = np.array(weight,dtype='float32')\n",
    "    \"\"\"\n",
    "    Training\n",
    "    \"\"\"\n",
    "    for t in range(M):\n",
    "        # Specify data to use and label to predict\n",
    "        yt = Y_train[t]\n",
    "        xt = X_train[t, :]\n",
    "        # prediction\n",
    "        predict = np.dot(xt,weight) - N\n",
    "        ythat = winnow_sign(predict)\n",
    "        # Update and Error counting   \n",
    "        if yt != ythat :\n",
    "            xt.tolist()\n",
    "            for i in range(N):\n",
    "                weight[i] *= 2**(float((yt-ythat))*xt[i])                 \n",
    "#             weight = np.multiply(weight, 2**((yt-ythat)*xt) ) # 报错\n",
    "                   \n",
    "    \"\"\"\n",
    "    Testing\n",
    "    \"\"\"\n",
    "    Yhat_test = winnow_sign(np.dot(X_test, weight) - N)\n",
    "    Yhat_test = np.reshape(Yhat_test, -1)\n",
    "\n",
    "    # Get test error\n",
    "    error = test_error(Y_test, Yhat_test)\n",
    "    \n",
    "    return error"
   ]
  },
  {
   "cell_type": "code",
   "execution_count": 10,
   "metadata": {},
   "outputs": [
    {
     "output_type": "stream",
     "name": "stdout",
     "text": [
      "<class 'numpy.ndarray'>\n[1 1 1 0 0]\n1\n1\n1\n0\n0\n"
     ]
    },
    {
     "output_type": "execute_result",
     "data": {
      "text/plain": [
       "array([0.5, 0.5, 0.5, 1. , 1. ], dtype=float32)"
      ]
     },
     "metadata": {},
     "execution_count": 10
    }
   ],
   "source": [
    "    weight = np.ones(5) # initialise weights to ones --Mark\n",
    "    weight = np.array(weight,dtype='float32')\n",
    "    x = np.random.randint(2,size = (5,5))\n",
    "    xt = x[1,:]\n",
    "    print(type(xt))\n",
    "    xt.tolist()\n",
    "    print(xt)\n",
    "#     xt = [1,0,1,0,1]\n",
    "#     print(type(xt))\n",
    "\n",
    "    for i in range(len(weight)):\n",
    "        print(xt[i])\n",
    "        weight[i] *= 2**(float((0-1))*xt[i]) \n",
    "    weight"
   ]
  },
  {
   "cell_type": "markdown",
   "metadata": {},
   "source": [
    "### Least squares"
   ]
  },
  {
   "cell_type": "code",
   "execution_count": 11,
   "metadata": {},
   "outputs": [],
   "source": [
    "def least_squares(X_train, Y_train, X_test, Y_test):\n",
    "    \"\"\"\n",
    "    Input:\n",
    "    X: M * N, values from {-1, 1}^N\n",
    "    Y: M length vector\n",
    "    X_test, Y_test: test data\n",
    "\n",
    "    Return:\n",
    "    mean_squared error\n",
    "    \"\"\"\n",
    "    \"\"\"\n",
    "    Training\n",
    "    \"\"\"\n",
    "    w_left = np.dot(X_train.T, X_train)\n",
    "    w_left = np.linalg.pinv(w_left)\n",
    "    w_right = np.dot(X_train.T, Y_train)\n",
    "\n",
    "    weight = np.dot(w_left, w_right)\n",
    "\n",
    "    \"\"\"\n",
    "    Test\n",
    "    \"\"\"\n",
    "    Yhat_test = sign(np.dot(X_test, weight))\n",
    "    error = test_error(Y_test, Yhat_test)\n",
    "\n",
    "    return error"
   ]
  },
  {
   "cell_type": "code",
   "execution_count": 12,
   "metadata": {},
   "outputs": [
    {
     "output_type": "stream",
     "name": "stdout",
     "text": [
      "0.38\n"
     ]
    }
   ],
   "source": [
    "X, Y = initialization(10, 100)\n",
    "X_test, Y_test = initialization(50, 100)\n",
    "\n",
    "error = least_squares(X, Y, X_test, Y_test)\n",
    "\n",
    "print(error)"
   ]
  },
  {
   "cell_type": "markdown",
   "metadata": {},
   "source": [
    "### 1-Nearest-Neighbours"
   ]
  },
  {
   "cell_type": "code",
   "execution_count": 13,
   "metadata": {},
   "outputs": [],
   "source": [
    "def oneNN(X_train, Y_train, X_test, Y_test):\n",
    "    \"\"\"\n",
    "    Input:\n",
    "    X: M * N, values from {-1, 1}^N\n",
    "    Y: M length vector\n",
    "    X_test, Y_test: test data\n",
    "\n",
    "    Return:\n",
    "    mean_squared error\n",
    "    \"\"\"\n",
    "#     (M,N) = np.shape(X_train)\n",
    "#     (P,Q) = np.shape(X_test)\n",
    "\n",
    "    Yhat_test = []\n",
    "    \"\"\"\n",
    "    Test\n",
    "    \"\"\"\n",
    "    \n",
    "    for index,point in enumerate(X_test):\n",
    "        delta = np.subtract(X_train,point)\n",
    "        eu_dis = np.sum((delta ** 2), axis = 1)\n",
    "        neibor_id = np.argwhere(eu_dis == np.min(eu_dis))\n",
    "        vote = np.sum(Y_train[neibor_id])\n",
    "\n",
    "        yhat_test = sign(vote)\n",
    "        Yhat_test.append(yhat_test)\n",
    "    \n",
    "    error = test_error(Y_test, Yhat_test)\n",
    "    \n",
    "    return error"
   ]
  },
  {
   "cell_type": "markdown",
   "metadata": {},
   "source": [
    "### Calculate sample complexity"
   ]
  },
  {
   "cell_type": "code",
   "execution_count": 16,
   "metadata": {},
   "outputs": [],
   "source": [
    "def complexity(N, test_size, method=\"winnow\", outter_maxrun=10, inner_maxrun=5):\n",
    "    \"\"\"\n",
    "    Input:\n",
    "    N: Max N we want to compute the complexity for\n",
    "    test_size: A fixed number of test data set\n",
    "    method: str of one of those four methods\n",
    "    outter_maxrun, innter_maxrun: we will have Outter_maxrun number of M for each N,\n",
    "    and each of those M is the mean of inner_maxrun number of M\n",
    "\n",
    "    Return:\n",
    "    A N * outter_maxrun matrix\n",
    "    \"\"\"\n",
    "    # Initialize record matrix\n",
    "    N_M_list = np.zeros((N, outter_maxrun))\n",
    "\n",
    "    # Specify method function:\n",
    "    if_winnow = False\n",
    "\n",
    "    if method == \"perceptron\":\n",
    "        func = perceptron\n",
    "    elif method == \"winnow\":\n",
    "        func = winnow\n",
    "        if_winnow = True\n",
    "    elif method == \"least squares\":\n",
    "        func = least_squares\n",
    "    else:\n",
    "        func = oneNN\n",
    "    \"\"\"\n",
    "    Loop depth 0, each will estimate one m for each n\n",
    "    \"\"\"\n",
    "    # For dynamic process\n",
    "    list_bar = range(N * outter_maxrun)\n",
    "    dynamic_count = 0\n",
    "    print(\"=>Start of method:\", method.upper(), \"\")\n",
    "    with open(\"./toobar.txt\", \"w\") as f:\n",
    "        for outter in range(outter_maxrun):\n",
    "            \"\"\"\n",
    "            Loop depth 1, each test for each n\n",
    "            \"\"\"\n",
    "            for n in range(1, N + 1):\n",
    "                # Set test data, same for each n\n",
    "                X_test, Y_test = initialization(test_size, n, if_winnow)\n",
    "\n",
    "                # Length 10, later will compute its mean\n",
    "                M_list = np.zeros(10)\n",
    "\n",
    "                # m as parameter\n",
    "                m = 1\n",
    "\n",
    "                # counter as stop condition\n",
    "                counter = 0\n",
    "                \"\"\"\n",
    "                Loop depth 2, each return the mean of several m's\n",
    "                \"\"\"\n",
    "                while counter < 10:\n",
    "\n",
    "                    # Reset cumulative error\n",
    "                    error_sum = 0\n",
    "\n",
    "                    \"\"\"\n",
    "                    Loop depth 3, each return some ms' error\n",
    "                    \"\"\"\n",
    "                    for inner in range(inner_maxrun):\n",
    "                        X_train, Y_train = initialization(m, n, if_winnow)\n",
    "                        error = func(X_train, Y_train, X_test, Y_test)\n",
    "                        error_sum += error\n",
    "                        \"\"\"\n",
    "                        End of loop depth 3\n",
    "                        \"\"\"\n",
    "\n",
    "                    # Compute mean of errors\n",
    "                    error_mean = error_sum / inner_maxrun\n",
    "\n",
    "                    # See if below 10% error bound\n",
    "                    if error_mean <= 0.1:\n",
    "                        M_list[counter] = m\n",
    "                        counter += 1\n",
    "                        m = 1\n",
    "                    else:\n",
    "                        m += 1\n",
    "\n",
    "                    \"\"\"\n",
    "                    End of loop depth 2\n",
    "                    \"\"\"\n",
    "                # Update the final recorder\n",
    "                N_M_list[n - 1, outter] = np.mean(M_list)\n",
    "\n",
    "                # Print process\n",
    "                f.write(str((outter + 1) * n))\n",
    "                dynamic_count += 1\n",
    "                print(\n",
    "                    \"\\rProcess:{:.2f}%, Epoch = {}, N = {}, M_mean = {}\".format(\n",
    "                        dynamic_count * 100 / len(list_bar),\n",
    "                        outter + 1,\n",
    "                        n,\n",
    "                        np.mean(M_list),\n",
    "                    ),\n",
    "                    end=\". ♥\",\n",
    "                )\n",
    "                \"\"\"\n",
    "                End of loop depth 1\n",
    "                \"\"\"\n",
    "            \"\"\"\n",
    "            End of loop depth 0\n",
    "            \"\"\"\n",
    "    M_mean = np.mean(N_M_list, axis=1)\n",
    "    M_std = np.std(N_M_list, axis=1)\n",
    "\n",
    "    print(\"\\nEnd of method:\", method.upper(), \"\\n\")\n",
    "\n",
    "    return M_mean, M_std"
   ]
  },
  {
   "cell_type": "markdown",
   "metadata": {},
   "source": [
    "### A long long long computation"
   ]
  },
  {
   "cell_type": "code",
   "execution_count": 17,
   "metadata": {},
   "outputs": [],
   "source": [
    "def long_long_long_computation(N=100, test_size=500, outter_maxrun=10, inner_maxrun=5):\n",
    "    # Initialize\n",
    "    M_mean_list = []\n",
    "    M_std_list = []\n",
    "\n",
    "    # method_list = [\"perceptron\", \"winnow\", \"least squares\", \"oneNN\"]\n",
    "    method_list = [\"perceptron\",\"Winnow\",\"least_squares\"]\n",
    "\n",
    "    for method in method_list:\n",
    "        M_mean, M_std = complexity(N, test_size, method, outter_maxrun, inner_maxrun)\n",
    "        M_mean_list.append(M_mean)\n",
    "        M_std_list.append(M_std)\n",
    "\n",
    "    for i in range(len(method_list)):\n",
    "        label = method_list[i]\n",
    "        plt.errorbar(np.arange(1, N+1), M_mean_list[i], M_std_list[i], label=label)\n",
    "    plt.legend()\n",
    "    plt.show()\n",
    "    return M_mean_list, M_std_list"
   ]
  },
  {
   "cell_type": "markdown",
   "metadata": {},
   "source": [
    "## Results"
   ]
  },
  {
   "cell_type": "code",
   "execution_count": 18,
   "metadata": {},
   "outputs": [
    {
     "output_type": "stream",
     "name": "stdout",
     "text": [
      "=>Start of method: PERCEPTRON \n",
      "Process:100.00%, Epoch = 10, N = 50, M_mean = 82.3. ♥\n",
      "End of method: PERCEPTRON \n",
      "\n",
      "Wall time: 14min 44s\n"
     ]
    }
   ],
   "source": [
    "%%time\n",
    "M_mean_perceptron, M_std_perceptron = complexity(100, 300) \"perceptron\")"
   ]
  },
  {
   "cell_type": "code",
   "execution_count": 19,
   "metadata": {},
   "outputs": [
    {
     "output_type": "execute_result",
     "data": {
      "text/plain": [
       "<ErrorbarContainer object of 3 artists>"
      ]
     },
     "metadata": {},
     "execution_count": 19
    },
    {
     "output_type": "display_data",
     "data": {
      "text/plain": "<Figure size 432x288 with 1 Axes>",
      "image/svg+xml": "<?xml version=\"1.0\" encoding=\"utf-8\" standalone=\"no\"?>\r\n<!DOCTYPE svg PUBLIC \"-//W3C//DTD SVG 1.1//EN\"\r\n  \"http://www.w3.org/Graphics/SVG/1.1/DTD/svg11.dtd\">\r\n<!-- Created with matplotlib (https://matplotlib.org/) -->\r\n<svg height=\"248.518125pt\" version=\"1.1\" viewBox=\"0 0 368.925 248.518125\" width=\"368.925pt\" xmlns=\"http://www.w3.org/2000/svg\" xmlns:xlink=\"http://www.w3.org/1999/xlink\">\r\n <defs>\r\n  <style type=\"text/css\">\r\n*{stroke-linecap:butt;stroke-linejoin:round;}\r\n  </style>\r\n </defs>\r\n <g id=\"figure_1\">\r\n  <g id=\"patch_1\">\r\n   <path d=\"M -0 248.518125 \r\nL 368.925 248.518125 \r\nL 368.925 0 \r\nL -0 0 \r\nz\r\n\"/>\r\n  </g>\r\n  <g id=\"axes_1\">\r\n   <g id=\"patch_2\">\r\n    <path d=\"M 26.925 224.64 \r\nL 361.725 224.64 \r\nL 361.725 7.2 \r\nL 26.925 7.2 \r\nz\r\n\"/>\r\n   </g>\r\n   <g id=\"matplotlib.axis_1\">\r\n    <g id=\"xtick_1\">\r\n     <g id=\"line2d_1\">\r\n      <defs>\r\n       <path d=\"M 0 0 \r\nL 0 3.5 \r\n\" id=\"mcfa629ad1b\" style=\"stroke:#ffffff;stroke-width:0.8;\"/>\r\n      </defs>\r\n      <g>\r\n       <use style=\"fill:#ffffff;stroke:#ffffff;stroke-width:0.8;\" x=\"35.931679\" xlink:href=\"#mcfa629ad1b\" y=\"224.64\"/>\r\n      </g>\r\n     </g>\r\n     <g id=\"text_1\">\r\n      <!-- 0 -->\r\n      <defs>\r\n       <path d=\"M 31.78125 66.40625 \r\nQ 24.171875 66.40625 20.328125 58.90625 \r\nQ 16.5 51.421875 16.5 36.375 \r\nQ 16.5 21.390625 20.328125 13.890625 \r\nQ 24.171875 6.390625 31.78125 6.390625 \r\nQ 39.453125 6.390625 43.28125 13.890625 \r\nQ 47.125 21.390625 47.125 36.375 \r\nQ 47.125 51.421875 43.28125 58.90625 \r\nQ 39.453125 66.40625 31.78125 66.40625 \r\nz\r\nM 31.78125 74.21875 \r\nQ 44.046875 74.21875 50.515625 64.515625 \r\nQ 56.984375 54.828125 56.984375 36.375 \r\nQ 56.984375 17.96875 50.515625 8.265625 \r\nQ 44.046875 -1.421875 31.78125 -1.421875 \r\nQ 19.53125 -1.421875 13.0625 8.265625 \r\nQ 6.59375 17.96875 6.59375 36.375 \r\nQ 6.59375 54.828125 13.0625 64.515625 \r\nQ 19.53125 74.21875 31.78125 74.21875 \r\nz\r\n\" id=\"DejaVuSans-48\"/>\r\n      </defs>\r\n      <g style=\"fill:#ffffff;\" transform=\"translate(32.750429 239.238437)scale(0.1 -0.1)\">\r\n       <use xlink:href=\"#DejaVuSans-48\"/>\r\n      </g>\r\n     </g>\r\n    </g>\r\n    <g id=\"xtick_2\">\r\n     <g id=\"line2d_2\">\r\n      <g>\r\n       <use style=\"fill:#ffffff;stroke:#ffffff;stroke-width:0.8;\" x=\"98.046707\" xlink:href=\"#mcfa629ad1b\" y=\"224.64\"/>\r\n      </g>\r\n     </g>\r\n     <g id=\"text_2\">\r\n      <!-- 10 -->\r\n      <defs>\r\n       <path d=\"M 12.40625 8.296875 \r\nL 28.515625 8.296875 \r\nL 28.515625 63.921875 \r\nL 10.984375 60.40625 \r\nL 10.984375 69.390625 \r\nL 28.421875 72.90625 \r\nL 38.28125 72.90625 \r\nL 38.28125 8.296875 \r\nL 54.390625 8.296875 \r\nL 54.390625 0 \r\nL 12.40625 0 \r\nz\r\n\" id=\"DejaVuSans-49\"/>\r\n      </defs>\r\n      <g style=\"fill:#ffffff;\" transform=\"translate(91.684207 239.238437)scale(0.1 -0.1)\">\r\n       <use xlink:href=\"#DejaVuSans-49\"/>\r\n       <use x=\"63.623047\" xlink:href=\"#DejaVuSans-48\"/>\r\n      </g>\r\n     </g>\r\n    </g>\r\n    <g id=\"xtick_3\">\r\n     <g id=\"line2d_3\">\r\n      <g>\r\n       <use style=\"fill:#ffffff;stroke:#ffffff;stroke-width:0.8;\" x=\"160.161735\" xlink:href=\"#mcfa629ad1b\" y=\"224.64\"/>\r\n      </g>\r\n     </g>\r\n     <g id=\"text_3\">\r\n      <!-- 20 -->\r\n      <defs>\r\n       <path d=\"M 19.1875 8.296875 \r\nL 53.609375 8.296875 \r\nL 53.609375 0 \r\nL 7.328125 0 \r\nL 7.328125 8.296875 \r\nQ 12.9375 14.109375 22.625 23.890625 \r\nQ 32.328125 33.6875 34.8125 36.53125 \r\nQ 39.546875 41.84375 41.421875 45.53125 \r\nQ 43.3125 49.21875 43.3125 52.78125 \r\nQ 43.3125 58.59375 39.234375 62.25 \r\nQ 35.15625 65.921875 28.609375 65.921875 \r\nQ 23.96875 65.921875 18.8125 64.3125 \r\nQ 13.671875 62.703125 7.8125 59.421875 \r\nL 7.8125 69.390625 \r\nQ 13.765625 71.78125 18.9375 73 \r\nQ 24.125 74.21875 28.421875 74.21875 \r\nQ 39.75 74.21875 46.484375 68.546875 \r\nQ 53.21875 62.890625 53.21875 53.421875 \r\nQ 53.21875 48.921875 51.53125 44.890625 \r\nQ 49.859375 40.875 45.40625 35.40625 \r\nQ 44.1875 33.984375 37.640625 27.21875 \r\nQ 31.109375 20.453125 19.1875 8.296875 \r\nz\r\n\" id=\"DejaVuSans-50\"/>\r\n      </defs>\r\n      <g style=\"fill:#ffffff;\" transform=\"translate(153.799235 239.238437)scale(0.1 -0.1)\">\r\n       <use xlink:href=\"#DejaVuSans-50\"/>\r\n       <use x=\"63.623047\" xlink:href=\"#DejaVuSans-48\"/>\r\n      </g>\r\n     </g>\r\n    </g>\r\n    <g id=\"xtick_4\">\r\n     <g id=\"line2d_4\">\r\n      <g>\r\n       <use style=\"fill:#ffffff;stroke:#ffffff;stroke-width:0.8;\" x=\"222.276763\" xlink:href=\"#mcfa629ad1b\" y=\"224.64\"/>\r\n      </g>\r\n     </g>\r\n     <g id=\"text_4\">\r\n      <!-- 30 -->\r\n      <defs>\r\n       <path d=\"M 40.578125 39.3125 \r\nQ 47.65625 37.796875 51.625 33 \r\nQ 55.609375 28.21875 55.609375 21.1875 \r\nQ 55.609375 10.40625 48.1875 4.484375 \r\nQ 40.765625 -1.421875 27.09375 -1.421875 \r\nQ 22.515625 -1.421875 17.65625 -0.515625 \r\nQ 12.796875 0.390625 7.625 2.203125 \r\nL 7.625 11.71875 \r\nQ 11.71875 9.328125 16.59375 8.109375 \r\nQ 21.484375 6.890625 26.8125 6.890625 \r\nQ 36.078125 6.890625 40.9375 10.546875 \r\nQ 45.796875 14.203125 45.796875 21.1875 \r\nQ 45.796875 27.640625 41.28125 31.265625 \r\nQ 36.765625 34.90625 28.71875 34.90625 \r\nL 20.21875 34.90625 \r\nL 20.21875 43.015625 \r\nL 29.109375 43.015625 \r\nQ 36.375 43.015625 40.234375 45.921875 \r\nQ 44.09375 48.828125 44.09375 54.296875 \r\nQ 44.09375 59.90625 40.109375 62.90625 \r\nQ 36.140625 65.921875 28.71875 65.921875 \r\nQ 24.65625 65.921875 20.015625 65.03125 \r\nQ 15.375 64.15625 9.8125 62.3125 \r\nL 9.8125 71.09375 \r\nQ 15.4375 72.65625 20.34375 73.4375 \r\nQ 25.25 74.21875 29.59375 74.21875 \r\nQ 40.828125 74.21875 47.359375 69.109375 \r\nQ 53.90625 64.015625 53.90625 55.328125 \r\nQ 53.90625 49.265625 50.4375 45.09375 \r\nQ 46.96875 40.921875 40.578125 39.3125 \r\nz\r\n\" id=\"DejaVuSans-51\"/>\r\n      </defs>\r\n      <g style=\"fill:#ffffff;\" transform=\"translate(215.914263 239.238437)scale(0.1 -0.1)\">\r\n       <use xlink:href=\"#DejaVuSans-51\"/>\r\n       <use x=\"63.623047\" xlink:href=\"#DejaVuSans-48\"/>\r\n      </g>\r\n     </g>\r\n    </g>\r\n    <g id=\"xtick_5\">\r\n     <g id=\"line2d_5\">\r\n      <g>\r\n       <use style=\"fill:#ffffff;stroke:#ffffff;stroke-width:0.8;\" x=\"284.39179\" xlink:href=\"#mcfa629ad1b\" y=\"224.64\"/>\r\n      </g>\r\n     </g>\r\n     <g id=\"text_5\">\r\n      <!-- 40 -->\r\n      <defs>\r\n       <path d=\"M 37.796875 64.3125 \r\nL 12.890625 25.390625 \r\nL 37.796875 25.390625 \r\nz\r\nM 35.203125 72.90625 \r\nL 47.609375 72.90625 \r\nL 47.609375 25.390625 \r\nL 58.015625 25.390625 \r\nL 58.015625 17.1875 \r\nL 47.609375 17.1875 \r\nL 47.609375 0 \r\nL 37.796875 0 \r\nL 37.796875 17.1875 \r\nL 4.890625 17.1875 \r\nL 4.890625 26.703125 \r\nz\r\n\" id=\"DejaVuSans-52\"/>\r\n      </defs>\r\n      <g style=\"fill:#ffffff;\" transform=\"translate(278.02929 239.238437)scale(0.1 -0.1)\">\r\n       <use xlink:href=\"#DejaVuSans-52\"/>\r\n       <use x=\"63.623047\" xlink:href=\"#DejaVuSans-48\"/>\r\n      </g>\r\n     </g>\r\n    </g>\r\n    <g id=\"xtick_6\">\r\n     <g id=\"line2d_6\">\r\n      <g>\r\n       <use style=\"fill:#ffffff;stroke:#ffffff;stroke-width:0.8;\" x=\"346.506818\" xlink:href=\"#mcfa629ad1b\" y=\"224.64\"/>\r\n      </g>\r\n     </g>\r\n     <g id=\"text_6\">\r\n      <!-- 50 -->\r\n      <defs>\r\n       <path d=\"M 10.796875 72.90625 \r\nL 49.515625 72.90625 \r\nL 49.515625 64.59375 \r\nL 19.828125 64.59375 \r\nL 19.828125 46.734375 \r\nQ 21.96875 47.46875 24.109375 47.828125 \r\nQ 26.265625 48.1875 28.421875 48.1875 \r\nQ 40.625 48.1875 47.75 41.5 \r\nQ 54.890625 34.8125 54.890625 23.390625 \r\nQ 54.890625 11.625 47.5625 5.09375 \r\nQ 40.234375 -1.421875 26.90625 -1.421875 \r\nQ 22.3125 -1.421875 17.546875 -0.640625 \r\nQ 12.796875 0.140625 7.71875 1.703125 \r\nL 7.71875 11.625 \r\nQ 12.109375 9.234375 16.796875 8.0625 \r\nQ 21.484375 6.890625 26.703125 6.890625 \r\nQ 35.15625 6.890625 40.078125 11.328125 \r\nQ 45.015625 15.765625 45.015625 23.390625 \r\nQ 45.015625 31 40.078125 35.4375 \r\nQ 35.15625 39.890625 26.703125 39.890625 \r\nQ 22.75 39.890625 18.8125 39.015625 \r\nQ 14.890625 38.140625 10.796875 36.28125 \r\nz\r\n\" id=\"DejaVuSans-53\"/>\r\n      </defs>\r\n      <g style=\"fill:#ffffff;\" transform=\"translate(340.144318 239.238437)scale(0.1 -0.1)\">\r\n       <use xlink:href=\"#DejaVuSans-53\"/>\r\n       <use x=\"63.623047\" xlink:href=\"#DejaVuSans-48\"/>\r\n      </g>\r\n     </g>\r\n    </g>\r\n   </g>\r\n   <g id=\"matplotlib.axis_2\">\r\n    <g id=\"ytick_1\">\r\n     <g id=\"line2d_7\">\r\n      <defs>\r\n       <path d=\"M 0 0 \r\nL -3.5 0 \r\n\" id=\"m926a2813d7\" style=\"stroke:#ffffff;stroke-width:0.8;\"/>\r\n      </defs>\r\n      <g>\r\n       <use style=\"fill:#ffffff;stroke:#ffffff;stroke-width:0.8;\" x=\"26.925\" xlink:href=\"#m926a2813d7\" y=\"219.641599\"/>\r\n      </g>\r\n     </g>\r\n     <g id=\"text_7\">\r\n      <!-- 0 -->\r\n      <g style=\"fill:#ffffff;\" transform=\"translate(13.5625 223.440817)scale(0.1 -0.1)\">\r\n       <use xlink:href=\"#DejaVuSans-48\"/>\r\n      </g>\r\n     </g>\r\n    </g>\r\n    <g id=\"ytick_2\">\r\n     <g id=\"line2d_8\">\r\n      <g>\r\n       <use style=\"fill:#ffffff;stroke:#ffffff;stroke-width:0.8;\" x=\"26.925\" xlink:href=\"#m926a2813d7\" y=\"195.187414\"/>\r\n      </g>\r\n     </g>\r\n     <g id=\"text_8\">\r\n      <!-- 10 -->\r\n      <g style=\"fill:#ffffff;\" transform=\"translate(7.2 198.986633)scale(0.1 -0.1)\">\r\n       <use xlink:href=\"#DejaVuSans-49\"/>\r\n       <use x=\"63.623047\" xlink:href=\"#DejaVuSans-48\"/>\r\n      </g>\r\n     </g>\r\n    </g>\r\n    <g id=\"ytick_3\">\r\n     <g id=\"line2d_9\">\r\n      <g>\r\n       <use style=\"fill:#ffffff;stroke:#ffffff;stroke-width:0.8;\" x=\"26.925\" xlink:href=\"#m926a2813d7\" y=\"170.733229\"/>\r\n      </g>\r\n     </g>\r\n     <g id=\"text_9\">\r\n      <!-- 20 -->\r\n      <g style=\"fill:#ffffff;\" transform=\"translate(7.2 174.532448)scale(0.1 -0.1)\">\r\n       <use xlink:href=\"#DejaVuSans-50\"/>\r\n       <use x=\"63.623047\" xlink:href=\"#DejaVuSans-48\"/>\r\n      </g>\r\n     </g>\r\n    </g>\r\n    <g id=\"ytick_4\">\r\n     <g id=\"line2d_10\">\r\n      <g>\r\n       <use style=\"fill:#ffffff;stroke:#ffffff;stroke-width:0.8;\" x=\"26.925\" xlink:href=\"#m926a2813d7\" y=\"146.279044\"/>\r\n      </g>\r\n     </g>\r\n     <g id=\"text_10\">\r\n      <!-- 30 -->\r\n      <g style=\"fill:#ffffff;\" transform=\"translate(7.2 150.078263)scale(0.1 -0.1)\">\r\n       <use xlink:href=\"#DejaVuSans-51\"/>\r\n       <use x=\"63.623047\" xlink:href=\"#DejaVuSans-48\"/>\r\n      </g>\r\n     </g>\r\n    </g>\r\n    <g id=\"ytick_5\">\r\n     <g id=\"line2d_11\">\r\n      <g>\r\n       <use style=\"fill:#ffffff;stroke:#ffffff;stroke-width:0.8;\" x=\"26.925\" xlink:href=\"#m926a2813d7\" y=\"121.824859\"/>\r\n      </g>\r\n     </g>\r\n     <g id=\"text_11\">\r\n      <!-- 40 -->\r\n      <g style=\"fill:#ffffff;\" transform=\"translate(7.2 125.624078)scale(0.1 -0.1)\">\r\n       <use xlink:href=\"#DejaVuSans-52\"/>\r\n       <use x=\"63.623047\" xlink:href=\"#DejaVuSans-48\"/>\r\n      </g>\r\n     </g>\r\n    </g>\r\n    <g id=\"ytick_6\">\r\n     <g id=\"line2d_12\">\r\n      <g>\r\n       <use style=\"fill:#ffffff;stroke:#ffffff;stroke-width:0.8;\" x=\"26.925\" xlink:href=\"#m926a2813d7\" y=\"97.370675\"/>\r\n      </g>\r\n     </g>\r\n     <g id=\"text_12\">\r\n      <!-- 50 -->\r\n      <g style=\"fill:#ffffff;\" transform=\"translate(7.2 101.169893)scale(0.1 -0.1)\">\r\n       <use xlink:href=\"#DejaVuSans-53\"/>\r\n       <use x=\"63.623047\" xlink:href=\"#DejaVuSans-48\"/>\r\n      </g>\r\n     </g>\r\n    </g>\r\n    <g id=\"ytick_7\">\r\n     <g id=\"line2d_13\">\r\n      <g>\r\n       <use style=\"fill:#ffffff;stroke:#ffffff;stroke-width:0.8;\" x=\"26.925\" xlink:href=\"#m926a2813d7\" y=\"72.91649\"/>\r\n      </g>\r\n     </g>\r\n     <g id=\"text_13\">\r\n      <!-- 60 -->\r\n      <defs>\r\n       <path d=\"M 33.015625 40.375 \r\nQ 26.375 40.375 22.484375 35.828125 \r\nQ 18.609375 31.296875 18.609375 23.390625 \r\nQ 18.609375 15.53125 22.484375 10.953125 \r\nQ 26.375 6.390625 33.015625 6.390625 \r\nQ 39.65625 6.390625 43.53125 10.953125 \r\nQ 47.40625 15.53125 47.40625 23.390625 \r\nQ 47.40625 31.296875 43.53125 35.828125 \r\nQ 39.65625 40.375 33.015625 40.375 \r\nz\r\nM 52.59375 71.296875 \r\nL 52.59375 62.3125 \r\nQ 48.875 64.0625 45.09375 64.984375 \r\nQ 41.3125 65.921875 37.59375 65.921875 \r\nQ 27.828125 65.921875 22.671875 59.328125 \r\nQ 17.53125 52.734375 16.796875 39.40625 \r\nQ 19.671875 43.65625 24.015625 45.921875 \r\nQ 28.375 48.1875 33.59375 48.1875 \r\nQ 44.578125 48.1875 50.953125 41.515625 \r\nQ 57.328125 34.859375 57.328125 23.390625 \r\nQ 57.328125 12.15625 50.6875 5.359375 \r\nQ 44.046875 -1.421875 33.015625 -1.421875 \r\nQ 20.359375 -1.421875 13.671875 8.265625 \r\nQ 6.984375 17.96875 6.984375 36.375 \r\nQ 6.984375 53.65625 15.1875 63.9375 \r\nQ 23.390625 74.21875 37.203125 74.21875 \r\nQ 40.921875 74.21875 44.703125 73.484375 \r\nQ 48.484375 72.75 52.59375 71.296875 \r\nz\r\n\" id=\"DejaVuSans-54\"/>\r\n      </defs>\r\n      <g style=\"fill:#ffffff;\" transform=\"translate(7.2 76.715709)scale(0.1 -0.1)\">\r\n       <use xlink:href=\"#DejaVuSans-54\"/>\r\n       <use x=\"63.623047\" xlink:href=\"#DejaVuSans-48\"/>\r\n      </g>\r\n     </g>\r\n    </g>\r\n    <g id=\"ytick_8\">\r\n     <g id=\"line2d_14\">\r\n      <g>\r\n       <use style=\"fill:#ffffff;stroke:#ffffff;stroke-width:0.8;\" x=\"26.925\" xlink:href=\"#m926a2813d7\" y=\"48.462305\"/>\r\n      </g>\r\n     </g>\r\n     <g id=\"text_14\">\r\n      <!-- 70 -->\r\n      <defs>\r\n       <path d=\"M 8.203125 72.90625 \r\nL 55.078125 72.90625 \r\nL 55.078125 68.703125 \r\nL 28.609375 0 \r\nL 18.3125 0 \r\nL 43.21875 64.59375 \r\nL 8.203125 64.59375 \r\nz\r\n\" id=\"DejaVuSans-55\"/>\r\n      </defs>\r\n      <g style=\"fill:#ffffff;\" transform=\"translate(7.2 52.261524)scale(0.1 -0.1)\">\r\n       <use xlink:href=\"#DejaVuSans-55\"/>\r\n       <use x=\"63.623047\" xlink:href=\"#DejaVuSans-48\"/>\r\n      </g>\r\n     </g>\r\n    </g>\r\n    <g id=\"ytick_9\">\r\n     <g id=\"line2d_15\">\r\n      <g>\r\n       <use style=\"fill:#ffffff;stroke:#ffffff;stroke-width:0.8;\" x=\"26.925\" xlink:href=\"#m926a2813d7\" y=\"24.00812\"/>\r\n      </g>\r\n     </g>\r\n     <g id=\"text_15\">\r\n      <!-- 80 -->\r\n      <defs>\r\n       <path d=\"M 31.78125 34.625 \r\nQ 24.75 34.625 20.71875 30.859375 \r\nQ 16.703125 27.09375 16.703125 20.515625 \r\nQ 16.703125 13.921875 20.71875 10.15625 \r\nQ 24.75 6.390625 31.78125 6.390625 \r\nQ 38.8125 6.390625 42.859375 10.171875 \r\nQ 46.921875 13.96875 46.921875 20.515625 \r\nQ 46.921875 27.09375 42.890625 30.859375 \r\nQ 38.875 34.625 31.78125 34.625 \r\nz\r\nM 21.921875 38.8125 \r\nQ 15.578125 40.375 12.03125 44.71875 \r\nQ 8.5 49.078125 8.5 55.328125 \r\nQ 8.5 64.0625 14.71875 69.140625 \r\nQ 20.953125 74.21875 31.78125 74.21875 \r\nQ 42.671875 74.21875 48.875 69.140625 \r\nQ 55.078125 64.0625 55.078125 55.328125 \r\nQ 55.078125 49.078125 51.53125 44.71875 \r\nQ 48 40.375 41.703125 38.8125 \r\nQ 48.828125 37.15625 52.796875 32.3125 \r\nQ 56.78125 27.484375 56.78125 20.515625 \r\nQ 56.78125 9.90625 50.3125 4.234375 \r\nQ 43.84375 -1.421875 31.78125 -1.421875 \r\nQ 19.734375 -1.421875 13.25 4.234375 \r\nQ 6.78125 9.90625 6.78125 20.515625 \r\nQ 6.78125 27.484375 10.78125 32.3125 \r\nQ 14.796875 37.15625 21.921875 38.8125 \r\nz\r\nM 18.3125 54.390625 \r\nQ 18.3125 48.734375 21.84375 45.5625 \r\nQ 25.390625 42.390625 31.78125 42.390625 \r\nQ 38.140625 42.390625 41.71875 45.5625 \r\nQ 45.3125 48.734375 45.3125 54.390625 \r\nQ 45.3125 60.0625 41.71875 63.234375 \r\nQ 38.140625 66.40625 31.78125 66.40625 \r\nQ 25.390625 66.40625 21.84375 63.234375 \r\nQ 18.3125 60.0625 18.3125 54.390625 \r\nz\r\n\" id=\"DejaVuSans-56\"/>\r\n      </defs>\r\n      <g style=\"fill:#ffffff;\" transform=\"translate(7.2 27.807339)scale(0.1 -0.1)\">\r\n       <use xlink:href=\"#DejaVuSans-56\"/>\r\n       <use x=\"63.623047\" xlink:href=\"#DejaVuSans-48\"/>\r\n      </g>\r\n     </g>\r\n    </g>\r\n   </g>\r\n   <g id=\"LineCollection_1\">\r\n    <path clip-path=\"url(#p4872650c7f)\" d=\"M 42.143182 214.756364 \r\nL 42.143182 211.761749 \r\n\" style=\"fill:none;stroke:#8dd3c7;stroke-width:1.5;\"/>\r\n    <path clip-path=\"url(#p4872650c7f)\" d=\"M 48.354685 207.302502 \r\nL 48.354685 204.787642 \r\n\" style=\"fill:none;stroke:#8dd3c7;stroke-width:1.5;\"/>\r\n    <path clip-path=\"url(#p4872650c7f)\" d=\"M 54.566187 207.999524 \r\nL 54.566187 205.460054 \r\n\" style=\"fill:none;stroke:#8dd3c7;stroke-width:1.5;\"/>\r\n    <path clip-path=\"url(#p4872650c7f)\" d=\"M 60.77769 202.590569 \r\nL 60.77769 199.913534 \r\n\" style=\"fill:none;stroke:#8dd3c7;stroke-width:1.5;\"/>\r\n    <path clip-path=\"url(#p4872650c7f)\" d=\"M 66.989193 199.950106 \r\nL 66.989193 197.614252 \r\n\" style=\"fill:none;stroke:#8dd3c7;stroke-width:1.5;\"/>\r\n    <path clip-path=\"url(#p4872650c7f)\" d=\"M 73.200696 197.691225 \r\nL 73.200696 194.150854 \r\n\" style=\"fill:none;stroke:#8dd3c7;stroke-width:1.5;\"/>\r\n    <path clip-path=\"url(#p4872650c7f)\" d=\"M 79.412199 195.106102 \r\nL 79.412199 192.480948 \r\n\" style=\"fill:none;stroke:#8dd3c7;stroke-width:1.5;\"/>\r\n    <path clip-path=\"url(#p4872650c7f)\" d=\"M 85.623701 190.034701 \r\nL 85.623701 185.912158 \r\n\" style=\"fill:none;stroke:#8dd3c7;stroke-width:1.5;\"/>\r\n    <path clip-path=\"url(#p4872650c7f)\" d=\"M 91.835204 185.279795 \r\nL 91.835204 182.841724 \r\n\" style=\"fill:none;stroke:#8dd3c7;stroke-width:1.5;\"/>\r\n    <path clip-path=\"url(#p4872650c7f)\" d=\"M 98.046707 182.809146 \r\nL 98.046707 177.976118 \r\n\" style=\"fill:none;stroke:#8dd3c7;stroke-width:1.5;\"/>\r\n    <path clip-path=\"url(#p4872650c7f)\" d=\"M 104.25821 180.420309 \r\nL 104.25821 175.963202 \r\n\" style=\"fill:none;stroke:#8dd3c7;stroke-width:1.5;\"/>\r\n    <path clip-path=\"url(#p4872650c7f)\" d=\"M 110.469712 173.862442 \r\nL 110.469712 171.272144 \r\n\" style=\"fill:none;stroke:#8dd3c7;stroke-width:1.5;\"/>\r\n    <path clip-path=\"url(#p4872650c7f)\" d=\"M 116.681215 170.432394 \r\nL 116.681215 166.876853 \r\n\" style=\"fill:none;stroke:#8dd3c7;stroke-width:1.5;\"/>\r\n    <path clip-path=\"url(#p4872650c7f)\" d=\"M 122.892718 165.505264 \r\nL 122.892718 162.755935 \r\n\" style=\"fill:none;stroke:#8dd3c7;stroke-width:1.5;\"/>\r\n    <path clip-path=\"url(#p4872650c7f)\" d=\"M 129.104221 164.116568 \r\nL 129.104221 160.721045 \r\n\" style=\"fill:none;stroke:#8dd3c7;stroke-width:1.5;\"/>\r\n    <path clip-path=\"url(#p4872650c7f)\" d=\"M 135.315724 157.54647 \r\nL 135.315724 154.036975 \r\n\" style=\"fill:none;stroke:#8dd3c7;stroke-width:1.5;\"/>\r\n    <path clip-path=\"url(#p4872650c7f)\" d=\"M 141.527226 155.397474 \r\nL 141.527226 151.588583 \r\n\" style=\"fill:none;stroke:#8dd3c7;stroke-width:1.5;\"/>\r\n    <path clip-path=\"url(#p4872650c7f)\" d=\"M 147.738729 150.978747 \r\nL 147.738729 147.252712 \r\n\" style=\"fill:none;stroke:#8dd3c7;stroke-width:1.5;\"/>\r\n    <path clip-path=\"url(#p4872650c7f)\" d=\"M 153.950232 149.154579 \r\nL 153.950232 145.359844 \r\n\" style=\"fill:none;stroke:#8dd3c7;stroke-width:1.5;\"/>\r\n    <path clip-path=\"url(#p4872650c7f)\" d=\"M 160.161735 142.555516 \r\nL 160.161735 138.509106 \r\n\" style=\"fill:none;stroke:#8dd3c7;stroke-width:1.5;\"/>\r\n    <path clip-path=\"url(#p4872650c7f)\" d=\"M 166.373237 139.790863 \r\nL 166.373237 135.747113 \r\n\" style=\"fill:none;stroke:#8dd3c7;stroke-width:1.5;\"/>\r\n    <path clip-path=\"url(#p4872650c7f)\" d=\"M 172.58474 136.317473 \r\nL 172.58474 130.221363 \r\n\" style=\"fill:none;stroke:#8dd3c7;stroke-width:1.5;\"/>\r\n    <path clip-path=\"url(#p4872650c7f)\" d=\"M 178.796243 133.138556 \r\nL 178.796243 127.0911 \r\n\" style=\"fill:none;stroke:#8dd3c7;stroke-width:1.5;\"/>\r\n    <path clip-path=\"url(#p4872650c7f)\" d=\"M 185.007746 125.527229 \r\nL 185.007746 121.301534 \r\n\" style=\"fill:none;stroke:#8dd3c7;stroke-width:1.5;\"/>\r\n    <path clip-path=\"url(#p4872650c7f)\" d=\"M 191.219249 125.568712 \r\nL 191.219249 119.743891 \r\n\" style=\"fill:none;stroke:#8dd3c7;stroke-width:1.5;\"/>\r\n    <path clip-path=\"url(#p4872650c7f)\" d=\"M 197.430751 118.667401 \r\nL 197.430751 115.543002 \r\n\" style=\"fill:none;stroke:#8dd3c7;stroke-width:1.5;\"/>\r\n    <path clip-path=\"url(#p4872650c7f)\" d=\"M 203.642254 116.686939 \r\nL 203.642254 109.160133 \r\n\" style=\"fill:none;stroke:#8dd3c7;stroke-width:1.5;\"/>\r\n    <path clip-path=\"url(#p4872650c7f)\" d=\"M 209.853757 113.11135 \r\nL 209.853757 107.306893 \r\n\" style=\"fill:none;stroke:#8dd3c7;stroke-width:1.5;\"/>\r\n    <path clip-path=\"url(#p4872650c7f)\" d=\"M 216.06526 106.726791 \r\nL 216.06526 102.784886 \r\n\" style=\"fill:none;stroke:#8dd3c7;stroke-width:1.5;\"/>\r\n    <path clip-path=\"url(#p4872650c7f)\" d=\"M 222.276763 101.385029 \r\nL 222.276763 94.579029 \r\n\" style=\"fill:none;stroke:#8dd3c7;stroke-width:1.5;\"/>\r\n    <path clip-path=\"url(#p4872650c7f)\" d=\"M 228.488265 98.501732 \r\nL 228.488265 93.45184 \r\n\" style=\"fill:none;stroke:#8dd3c7;stroke-width:1.5;\"/>\r\n    <path clip-path=\"url(#p4872650c7f)\" d=\"M 234.699768 96.609359 \r\nL 234.699768 89.035033 \r\n\" style=\"fill:none;stroke:#8dd3c7;stroke-width:1.5;\"/>\r\n    <path clip-path=\"url(#p4872650c7f)\" d=\"M 240.911271 92.277109 \r\nL 240.911271 85.541945 \r\n\" style=\"fill:none;stroke:#8dd3c7;stroke-width:1.5;\"/>\r\n    <path clip-path=\"url(#p4872650c7f)\" d=\"M 247.122774 88.440164 \r\nL 247.122774 81.749184 \r\n\" style=\"fill:none;stroke:#8dd3c7;stroke-width:1.5;\"/>\r\n    <path clip-path=\"url(#p4872650c7f)\" d=\"M 253.334276 86.277653 \r\nL 253.334276 78.189415 \r\n\" style=\"fill:none;stroke:#8dd3c7;stroke-width:1.5;\"/>\r\n    <path clip-path=\"url(#p4872650c7f)\" d=\"M 259.545779 78.676844 \r\nL 259.545779 74.492391 \r\n\" style=\"fill:none;stroke:#8dd3c7;stroke-width:1.5;\"/>\r\n    <path clip-path=\"url(#p4872650c7f)\" d=\"M 265.757282 75.076151 \r\nL 265.757282 68.849403 \r\n\" style=\"fill:none;stroke:#8dd3c7;stroke-width:1.5;\"/>\r\n    <path clip-path=\"url(#p4872650c7f)\" d=\"M 271.968785 71.26244 \r\nL 271.968785 66.109392 \r\n\" style=\"fill:none;stroke:#8dd3c7;stroke-width:1.5;\"/>\r\n    <path clip-path=\"url(#p4872650c7f)\" d=\"M 278.180288 68.163405 \r\nL 278.180288 61.774354 \r\n\" style=\"fill:none;stroke:#8dd3c7;stroke-width:1.5;\"/>\r\n    <path clip-path=\"url(#p4872650c7f)\" d=\"M 284.39179 63.718658 \r\nL 284.39179 56.681969 \r\n\" style=\"fill:none;stroke:#8dd3c7;stroke-width:1.5;\"/>\r\n    <path clip-path=\"url(#p4872650c7f)\" d=\"M 290.603293 58.885756 \r\nL 290.603293 52.466823 \r\n\" style=\"fill:none;stroke:#8dd3c7;stroke-width:1.5;\"/>\r\n    <path clip-path=\"url(#p4872650c7f)\" d=\"M 296.814796 56.666816 \r\nL 296.814796 48.76785 \r\n\" style=\"fill:none;stroke:#8dd3c7;stroke-width:1.5;\"/>\r\n    <path clip-path=\"url(#p4872650c7f)\" d=\"M 303.026299 56.230841 \r\nL 303.026299 45.633514 \r\n\" style=\"fill:none;stroke:#8dd3c7;stroke-width:1.5;\"/>\r\n    <path clip-path=\"url(#p4872650c7f)\" d=\"M 309.237801 49.871799 \r\nL 309.237801 41.770707 \r\n\" style=\"fill:none;stroke:#8dd3c7;stroke-width:1.5;\"/>\r\n    <path clip-path=\"url(#p4872650c7f)\" d=\"M 315.449304 43.554161 \r\nL 315.449304 36.937237 \r\n\" style=\"fill:none;stroke:#8dd3c7;stroke-width:1.5;\"/>\r\n    <path clip-path=\"url(#p4872650c7f)\" d=\"M 321.660807 37.49892 \r\nL 321.660807 31.156653 \r\n\" style=\"fill:none;stroke:#8dd3c7;stroke-width:1.5;\"/>\r\n    <path clip-path=\"url(#p4872650c7f)\" d=\"M 327.87231 35.451003 \r\nL 327.87231 28.313732 \r\n\" style=\"fill:none;stroke:#8dd3c7;stroke-width:1.5;\"/>\r\n    <path clip-path=\"url(#p4872650c7f)\" d=\"M 334.083813 28.099653 \r\nL 334.083813 22.410914 \r\n\" style=\"fill:none;stroke:#8dd3c7;stroke-width:1.5;\"/>\r\n    <path clip-path=\"url(#p4872650c7f)\" d=\"M 340.295315 24.609097 \r\nL 340.295315 19.836833 \r\n\" style=\"fill:none;stroke:#8dd3c7;stroke-width:1.5;\"/>\r\n    <path clip-path=\"url(#p4872650c7f)\" d=\"M 346.506818 25.112508 \r\nL 346.506818 17.083636 \r\n\" style=\"fill:none;stroke:#8dd3c7;stroke-width:1.5;\"/>\r\n   </g>\r\n   <g id=\"line2d_16\">\r\n    <path clip-path=\"url(#p4872650c7f)\" d=\"M 42.143182 213.259056 \r\nL 48.354685 206.045072 \r\nL 54.566187 206.729789 \r\nL 60.77769 201.252052 \r\nL 66.989193 198.782179 \r\nL 73.200696 195.921039 \r\nL 79.412199 193.793525 \r\nL 85.623701 187.973429 \r\nL 91.835204 184.06076 \r\nL 98.046707 180.392632 \r\nL 104.25821 178.191755 \r\nL 110.469712 172.567293 \r\nL 116.681215 168.654623 \r\nL 122.892718 164.130599 \r\nL 129.104221 162.418806 \r\nL 135.315724 155.791722 \r\nL 141.527226 153.493029 \r\nL 147.738729 149.11573 \r\nL 153.950232 147.257212 \r\nL 160.161735 140.532311 \r\nL 166.373237 137.768988 \r\nL 172.58474 133.269418 \r\nL 178.796243 130.114828 \r\nL 185.007746 123.414381 \r\nL 191.219249 122.656302 \r\nL 197.430751 117.105202 \r\nL 203.642254 112.923536 \r\nL 209.853757 110.209122 \r\nL 216.06526 104.755838 \r\nL 222.276763 97.982029 \r\nL 228.488265 95.976786 \r\nL 234.699768 92.822196 \r\nL 240.911271 88.909527 \r\nL 247.122774 85.094674 \r\nL 253.334276 82.233534 \r\nL 259.545779 76.584618 \r\nL 265.757282 71.962777 \r\nL 271.968785 68.685916 \r\nL 278.180288 64.96888 \r\nL 284.39179 60.200314 \r\nL 290.603293 55.676289 \r\nL 296.814796 52.717333 \r\nL 303.026299 50.932178 \r\nL 309.237801 45.821253 \r\nL 315.449304 40.245699 \r\nL 321.660807 34.327786 \r\nL 327.87231 31.882368 \r\nL 334.083813 25.255284 \r\nL 340.295315 22.222965 \r\nL 346.506818 21.098072 \r\n\" style=\"fill:none;stroke:#8dd3c7;stroke-linecap:square;stroke-width:1.5;\"/>\r\n   </g>\r\n   <g id=\"patch_3\">\r\n    <path d=\"M 26.925 224.64 \r\nL 26.925 7.2 \r\n\" style=\"fill:none;stroke:#ffffff;stroke-linecap:square;stroke-linejoin:miter;stroke-width:0.8;\"/>\r\n   </g>\r\n   <g id=\"patch_4\">\r\n    <path d=\"M 361.725 224.64 \r\nL 361.725 7.2 \r\n\" style=\"fill:none;stroke:#ffffff;stroke-linecap:square;stroke-linejoin:miter;stroke-width:0.8;\"/>\r\n   </g>\r\n   <g id=\"patch_5\">\r\n    <path d=\"M 26.925 224.64 \r\nL 361.725 224.64 \r\n\" style=\"fill:none;stroke:#ffffff;stroke-linecap:square;stroke-linejoin:miter;stroke-width:0.8;\"/>\r\n   </g>\r\n   <g id=\"patch_6\">\r\n    <path d=\"M 26.925 7.2 \r\nL 361.725 7.2 \r\n\" style=\"fill:none;stroke:#ffffff;stroke-linecap:square;stroke-linejoin:miter;stroke-width:0.8;\"/>\r\n   </g>\r\n  </g>\r\n </g>\r\n <defs>\r\n  <clipPath id=\"p4872650c7f\">\r\n   <rect height=\"217.44\" width=\"334.8\" x=\"26.925\" y=\"7.2\"/>\r\n  </clipPath>\r\n </defs>\r\n</svg>\r\n",
      "image/png": "[encoded data removed]"
     },
     "metadata": {}
    }
   ],
   "source": [
    "plt.errorbar(np.arange(1, 101), M_mean_perceptron, M_std_perceptron)"
   ]
  },
  {
   "cell_type": "code",
   "execution_count": 20,
   "metadata": {},
   "outputs": [
    {
     "output_type": "stream",
     "name": "stdout",
     "text": [
      "=>Start of method: WINNOW \n",
      "Process:100.00%, Epoch = 10, N = 50, M_mean = 26.5. ♥\n",
      "End of method: WINNOW \n",
      "\n"
     ]
    }
   ],
   "source": [
    "M_mean_winnow, M_std_winnow = complexity(50, 500, \"winnow\")"
   ]
  },
  {
   "cell_type": "code",
   "execution_count": 21,
   "metadata": {},
   "outputs": [
    {
     "output_type": "execute_result",
     "data": {
      "text/plain": [
       "<ErrorbarContainer object of 3 artists>"
      ]
     },
     "metadata": {},
     "execution_count": 21
    },
    {
     "output_type": "display_data",
     "data": {
      "text/plain": "<Figure size 432x288 with 1 Axes>",
      "image/svg+xml": "<?xml version=\"1.0\" encoding=\"utf-8\" standalone=\"no\"?>\r\n<!DOCTYPE svg PUBLIC \"-//W3C//DTD SVG 1.1//EN\"\r\n  \"http://www.w3.org/Graphics/SVG/1.1/DTD/svg11.dtd\">\r\n<!-- Created with matplotlib (https://matplotlib.org/) -->\r\n<svg height=\"248.518125pt\" version=\"1.1\" viewBox=\"0 0 368.925 248.518125\" width=\"368.925pt\" xmlns=\"http://www.w3.org/2000/svg\" xmlns:xlink=\"http://www.w3.org/1999/xlink\">\r\n <defs>\r\n  <style type=\"text/css\">\r\n*{stroke-linecap:butt;stroke-linejoin:round;}\r\n  </style>\r\n </defs>\r\n <g id=\"figure_1\">\r\n  <g id=\"patch_1\">\r\n   <path d=\"M -0 248.518125 \r\nL 368.925 248.518125 \r\nL 368.925 0 \r\nL -0 0 \r\nz\r\n\"/>\r\n  </g>\r\n  <g id=\"axes_1\">\r\n   <g id=\"patch_2\">\r\n    <path d=\"M 26.925 224.64 \r\nL 361.725 224.64 \r\nL 361.725 7.2 \r\nL 26.925 7.2 \r\nz\r\n\"/>\r\n   </g>\r\n   <g id=\"matplotlib.axis_1\">\r\n    <g id=\"xtick_1\">\r\n     <g id=\"line2d_1\">\r\n      <defs>\r\n       <path d=\"M 0 0 \r\nL 0 3.5 \r\n\" id=\"mdb6a26651f\" style=\"stroke:#ffffff;stroke-width:0.8;\"/>\r\n      </defs>\r\n      <g>\r\n       <use style=\"fill:#ffffff;stroke:#ffffff;stroke-width:0.8;\" x=\"35.931679\" xlink:href=\"#mdb6a26651f\" y=\"224.64\"/>\r\n      </g>\r\n     </g>\r\n     <g id=\"text_1\">\r\n      <!-- 0 -->\r\n      <defs>\r\n       <path d=\"M 31.78125 66.40625 \r\nQ 24.171875 66.40625 20.328125 58.90625 \r\nQ 16.5 51.421875 16.5 36.375 \r\nQ 16.5 21.390625 20.328125 13.890625 \r\nQ 24.171875 6.390625 31.78125 6.390625 \r\nQ 39.453125 6.390625 43.28125 13.890625 \r\nQ 47.125 21.390625 47.125 36.375 \r\nQ 47.125 51.421875 43.28125 58.90625 \r\nQ 39.453125 66.40625 31.78125 66.40625 \r\nz\r\nM 31.78125 74.21875 \r\nQ 44.046875 74.21875 50.515625 64.515625 \r\nQ 56.984375 54.828125 56.984375 36.375 \r\nQ 56.984375 17.96875 50.515625 8.265625 \r\nQ 44.046875 -1.421875 31.78125 -1.421875 \r\nQ 19.53125 -1.421875 13.0625 8.265625 \r\nQ 6.59375 17.96875 6.59375 36.375 \r\nQ 6.59375 54.828125 13.0625 64.515625 \r\nQ 19.53125 74.21875 31.78125 74.21875 \r\nz\r\n\" id=\"DejaVuSans-48\"/>\r\n      </defs>\r\n      <g style=\"fill:#ffffff;\" transform=\"translate(32.750429 239.238437)scale(0.1 -0.1)\">\r\n       <use xlink:href=\"#DejaVuSans-48\"/>\r\n      </g>\r\n     </g>\r\n    </g>\r\n    <g id=\"xtick_2\">\r\n     <g id=\"line2d_2\">\r\n      <g>\r\n       <use style=\"fill:#ffffff;stroke:#ffffff;stroke-width:0.8;\" x=\"98.046707\" xlink:href=\"#mdb6a26651f\" y=\"224.64\"/>\r\n      </g>\r\n     </g>\r\n     <g id=\"text_2\">\r\n      <!-- 10 -->\r\n      <defs>\r\n       <path d=\"M 12.40625 8.296875 \r\nL 28.515625 8.296875 \r\nL 28.515625 63.921875 \r\nL 10.984375 60.40625 \r\nL 10.984375 69.390625 \r\nL 28.421875 72.90625 \r\nL 38.28125 72.90625 \r\nL 38.28125 8.296875 \r\nL 54.390625 8.296875 \r\nL 54.390625 0 \r\nL 12.40625 0 \r\nz\r\n\" id=\"DejaVuSans-49\"/>\r\n      </defs>\r\n      <g style=\"fill:#ffffff;\" transform=\"translate(91.684207 239.238437)scale(0.1 -0.1)\">\r\n       <use xlink:href=\"#DejaVuSans-49\"/>\r\n       <use x=\"63.623047\" xlink:href=\"#DejaVuSans-48\"/>\r\n      </g>\r\n     </g>\r\n    </g>\r\n    <g id=\"xtick_3\">\r\n     <g id=\"line2d_3\">\r\n      <g>\r\n       <use style=\"fill:#ffffff;stroke:#ffffff;stroke-width:0.8;\" x=\"160.161735\" xlink:href=\"#mdb6a26651f\" y=\"224.64\"/>\r\n      </g>\r\n     </g>\r\n     <g id=\"text_3\">\r\n      <!-- 20 -->\r\n      <defs>\r\n       <path d=\"M 19.1875 8.296875 \r\nL 53.609375 8.296875 \r\nL 53.609375 0 \r\nL 7.328125 0 \r\nL 7.328125 8.296875 \r\nQ 12.9375 14.109375 22.625 23.890625 \r\nQ 32.328125 33.6875 34.8125 36.53125 \r\nQ 39.546875 41.84375 41.421875 45.53125 \r\nQ 43.3125 49.21875 43.3125 52.78125 \r\nQ 43.3125 58.59375 39.234375 62.25 \r\nQ 35.15625 65.921875 28.609375 65.921875 \r\nQ 23.96875 65.921875 18.8125 64.3125 \r\nQ 13.671875 62.703125 7.8125 59.421875 \r\nL 7.8125 69.390625 \r\nQ 13.765625 71.78125 18.9375 73 \r\nQ 24.125 74.21875 28.421875 74.21875 \r\nQ 39.75 74.21875 46.484375 68.546875 \r\nQ 53.21875 62.890625 53.21875 53.421875 \r\nQ 53.21875 48.921875 51.53125 44.890625 \r\nQ 49.859375 40.875 45.40625 35.40625 \r\nQ 44.1875 33.984375 37.640625 27.21875 \r\nQ 31.109375 20.453125 19.1875 8.296875 \r\nz\r\n\" id=\"DejaVuSans-50\"/>\r\n      </defs>\r\n      <g style=\"fill:#ffffff;\" transform=\"translate(153.799235 239.238437)scale(0.1 -0.1)\">\r\n       <use xlink:href=\"#DejaVuSans-50\"/>\r\n       <use x=\"63.623047\" xlink:href=\"#DejaVuSans-48\"/>\r\n      </g>\r\n     </g>\r\n    </g>\r\n    <g id=\"xtick_4\">\r\n     <g id=\"line2d_4\">\r\n      <g>\r\n       <use style=\"fill:#ffffff;stroke:#ffffff;stroke-width:0.8;\" x=\"222.276763\" xlink:href=\"#mdb6a26651f\" y=\"224.64\"/>\r\n      </g>\r\n     </g>\r\n     <g id=\"text_4\">\r\n      <!-- 30 -->\r\n      <defs>\r\n       <path d=\"M 40.578125 39.3125 \r\nQ 47.65625 37.796875 51.625 33 \r\nQ 55.609375 28.21875 55.609375 21.1875 \r\nQ 55.609375 10.40625 48.1875 4.484375 \r\nQ 40.765625 -1.421875 27.09375 -1.421875 \r\nQ 22.515625 -1.421875 17.65625 -0.515625 \r\nQ 12.796875 0.390625 7.625 2.203125 \r\nL 7.625 11.71875 \r\nQ 11.71875 9.328125 16.59375 8.109375 \r\nQ 21.484375 6.890625 26.8125 6.890625 \r\nQ 36.078125 6.890625 40.9375 10.546875 \r\nQ 45.796875 14.203125 45.796875 21.1875 \r\nQ 45.796875 27.640625 41.28125 31.265625 \r\nQ 36.765625 34.90625 28.71875 34.90625 \r\nL 20.21875 34.90625 \r\nL 20.21875 43.015625 \r\nL 29.109375 43.015625 \r\nQ 36.375 43.015625 40.234375 45.921875 \r\nQ 44.09375 48.828125 44.09375 54.296875 \r\nQ 44.09375 59.90625 40.109375 62.90625 \r\nQ 36.140625 65.921875 28.71875 65.921875 \r\nQ 24.65625 65.921875 20.015625 65.03125 \r\nQ 15.375 64.15625 9.8125 62.3125 \r\nL 9.8125 71.09375 \r\nQ 15.4375 72.65625 20.34375 73.4375 \r\nQ 25.25 74.21875 29.59375 74.21875 \r\nQ 40.828125 74.21875 47.359375 69.109375 \r\nQ 53.90625 64.015625 53.90625 55.328125 \r\nQ 53.90625 49.265625 50.4375 45.09375 \r\nQ 46.96875 40.921875 40.578125 39.3125 \r\nz\r\n\" id=\"DejaVuSans-51\"/>\r\n      </defs>\r\n      <g style=\"fill:#ffffff;\" transform=\"translate(215.914263 239.238437)scale(0.1 -0.1)\">\r\n       <use xlink:href=\"#DejaVuSans-51\"/>\r\n       <use x=\"63.623047\" xlink:href=\"#DejaVuSans-48\"/>\r\n      </g>\r\n     </g>\r\n    </g>\r\n    <g id=\"xtick_5\">\r\n     <g id=\"line2d_5\">\r\n      <g>\r\n       <use style=\"fill:#ffffff;stroke:#ffffff;stroke-width:0.8;\" x=\"284.39179\" xlink:href=\"#mdb6a26651f\" y=\"224.64\"/>\r\n      </g>\r\n     </g>\r\n     <g id=\"text_5\">\r\n      <!-- 40 -->\r\n      <defs>\r\n       <path d=\"M 37.796875 64.3125 \r\nL 12.890625 25.390625 \r\nL 37.796875 25.390625 \r\nz\r\nM 35.203125 72.90625 \r\nL 47.609375 72.90625 \r\nL 47.609375 25.390625 \r\nL 58.015625 25.390625 \r\nL 58.015625 17.1875 \r\nL 47.609375 17.1875 \r\nL 47.609375 0 \r\nL 37.796875 0 \r\nL 37.796875 17.1875 \r\nL 4.890625 17.1875 \r\nL 4.890625 26.703125 \r\nz\r\n\" id=\"DejaVuSans-52\"/>\r\n      </defs>\r\n      <g style=\"fill:#ffffff;\" transform=\"translate(278.02929 239.238437)scale(0.1 -0.1)\">\r\n       <use xlink:href=\"#DejaVuSans-52\"/>\r\n       <use x=\"63.623047\" xlink:href=\"#DejaVuSans-48\"/>\r\n      </g>\r\n     </g>\r\n    </g>\r\n    <g id=\"xtick_6\">\r\n     <g id=\"line2d_6\">\r\n      <g>\r\n       <use style=\"fill:#ffffff;stroke:#ffffff;stroke-width:0.8;\" x=\"346.506818\" xlink:href=\"#mdb6a26651f\" y=\"224.64\"/>\r\n      </g>\r\n     </g>\r\n     <g id=\"text_6\">\r\n      <!-- 50 -->\r\n      <defs>\r\n       <path d=\"M 10.796875 72.90625 \r\nL 49.515625 72.90625 \r\nL 49.515625 64.59375 \r\nL 19.828125 64.59375 \r\nL 19.828125 46.734375 \r\nQ 21.96875 47.46875 24.109375 47.828125 \r\nQ 26.265625 48.1875 28.421875 48.1875 \r\nQ 40.625 48.1875 47.75 41.5 \r\nQ 54.890625 34.8125 54.890625 23.390625 \r\nQ 54.890625 11.625 47.5625 5.09375 \r\nQ 40.234375 -1.421875 26.90625 -1.421875 \r\nQ 22.3125 -1.421875 17.546875 -0.640625 \r\nQ 12.796875 0.140625 7.71875 1.703125 \r\nL 7.71875 11.625 \r\nQ 12.109375 9.234375 16.796875 8.0625 \r\nQ 21.484375 6.890625 26.703125 6.890625 \r\nQ 35.15625 6.890625 40.078125 11.328125 \r\nQ 45.015625 15.765625 45.015625 23.390625 \r\nQ 45.015625 31 40.078125 35.4375 \r\nQ 35.15625 39.890625 26.703125 39.890625 \r\nQ 22.75 39.890625 18.8125 39.015625 \r\nQ 14.890625 38.140625 10.796875 36.28125 \r\nz\r\n\" id=\"DejaVuSans-53\"/>\r\n      </defs>\r\n      <g style=\"fill:#ffffff;\" transform=\"translate(340.144318 239.238437)scale(0.1 -0.1)\">\r\n       <use xlink:href=\"#DejaVuSans-53\"/>\r\n       <use x=\"63.623047\" xlink:href=\"#DejaVuSans-48\"/>\r\n      </g>\r\n     </g>\r\n    </g>\r\n   </g>\r\n   <g id=\"matplotlib.axis_2\">\r\n    <g id=\"ytick_1\">\r\n     <g id=\"line2d_7\">\r\n      <defs>\r\n       <path d=\"M 0 0 \r\nL -3.5 0 \r\n\" id=\"m41072b09e8\" style=\"stroke:#ffffff;stroke-width:0.8;\"/>\r\n      </defs>\r\n      <g>\r\n       <use style=\"fill:#ffffff;stroke:#ffffff;stroke-width:0.8;\" x=\"26.925\" xlink:href=\"#m41072b09e8\" y=\"222.453691\"/>\r\n      </g>\r\n     </g>\r\n     <g id=\"text_7\">\r\n      <!-- 0 -->\r\n      <g style=\"fill:#ffffff;\" transform=\"translate(13.5625 226.25291)scale(0.1 -0.1)\">\r\n       <use xlink:href=\"#DejaVuSans-48\"/>\r\n      </g>\r\n     </g>\r\n    </g>\r\n    <g id=\"ytick_2\">\r\n     <g id=\"line2d_8\">\r\n      <g>\r\n       <use style=\"fill:#ffffff;stroke:#ffffff;stroke-width:0.8;\" x=\"26.925\" xlink:href=\"#m41072b09e8\" y=\"183.967053\"/>\r\n      </g>\r\n     </g>\r\n     <g id=\"text_8\">\r\n      <!-- 5 -->\r\n      <g style=\"fill:#ffffff;\" transform=\"translate(13.5625 187.766272)scale(0.1 -0.1)\">\r\n       <use xlink:href=\"#DejaVuSans-53\"/>\r\n      </g>\r\n     </g>\r\n    </g>\r\n    <g id=\"ytick_3\">\r\n     <g id=\"line2d_9\">\r\n      <g>\r\n       <use style=\"fill:#ffffff;stroke:#ffffff;stroke-width:0.8;\" x=\"26.925\" xlink:href=\"#m41072b09e8\" y=\"145.480415\"/>\r\n      </g>\r\n     </g>\r\n     <g id=\"text_9\">\r\n      <!-- 10 -->\r\n      <g style=\"fill:#ffffff;\" transform=\"translate(7.2 149.279633)scale(0.1 -0.1)\">\r\n       <use xlink:href=\"#DejaVuSans-49\"/>\r\n       <use x=\"63.623047\" xlink:href=\"#DejaVuSans-48\"/>\r\n      </g>\r\n     </g>\r\n    </g>\r\n    <g id=\"ytick_4\">\r\n     <g id=\"line2d_10\">\r\n      <g>\r\n       <use style=\"fill:#ffffff;stroke:#ffffff;stroke-width:0.8;\" x=\"26.925\" xlink:href=\"#m41072b09e8\" y=\"106.993776\"/>\r\n      </g>\r\n     </g>\r\n     <g id=\"text_10\">\r\n      <!-- 15 -->\r\n      <g style=\"fill:#ffffff;\" transform=\"translate(7.2 110.792995)scale(0.1 -0.1)\">\r\n       <use xlink:href=\"#DejaVuSans-49\"/>\r\n       <use x=\"63.623047\" xlink:href=\"#DejaVuSans-53\"/>\r\n      </g>\r\n     </g>\r\n    </g>\r\n    <g id=\"ytick_5\">\r\n     <g id=\"line2d_11\">\r\n      <g>\r\n       <use style=\"fill:#ffffff;stroke:#ffffff;stroke-width:0.8;\" x=\"26.925\" xlink:href=\"#m41072b09e8\" y=\"68.507138\"/>\r\n      </g>\r\n     </g>\r\n     <g id=\"text_11\">\r\n      <!-- 20 -->\r\n      <g style=\"fill:#ffffff;\" transform=\"translate(7.2 72.306357)scale(0.1 -0.1)\">\r\n       <use xlink:href=\"#DejaVuSans-50\"/>\r\n       <use x=\"63.623047\" xlink:href=\"#DejaVuSans-48\"/>\r\n      </g>\r\n     </g>\r\n    </g>\r\n    <g id=\"ytick_6\">\r\n     <g id=\"line2d_12\">\r\n      <g>\r\n       <use style=\"fill:#ffffff;stroke:#ffffff;stroke-width:0.8;\" x=\"26.925\" xlink:href=\"#m41072b09e8\" y=\"30.0205\"/>\r\n      </g>\r\n     </g>\r\n     <g id=\"text_12\">\r\n      <!-- 25 -->\r\n      <g style=\"fill:#ffffff;\" transform=\"translate(7.2 33.819719)scale(0.1 -0.1)\">\r\n       <use xlink:href=\"#DejaVuSans-50\"/>\r\n       <use x=\"63.623047\" xlink:href=\"#DejaVuSans-53\"/>\r\n      </g>\r\n     </g>\r\n    </g>\r\n   </g>\r\n   <g id=\"LineCollection_1\">\r\n    <path clip-path=\"url(#p16bb8ac7df)\" d=\"M 42.143182 214.756364 \r\nL 42.143182 214.756364 \r\n\" style=\"fill:none;stroke:#8dd3c7;stroke-width:1.5;\"/>\r\n    <path clip-path=\"url(#p16bb8ac7df)\" d=\"M 48.354685 204.143912 \r\nL 48.354685 192.11636 \r\n\" style=\"fill:none;stroke:#8dd3c7;stroke-width:1.5;\"/>\r\n    <path clip-path=\"url(#p16bb8ac7df)\" d=\"M 54.566187 169.796806 \r\nL 54.566187 156.571731 \r\n\" style=\"fill:none;stroke:#8dd3c7;stroke-width:1.5;\"/>\r\n    <path clip-path=\"url(#p16bb8ac7df)\" d=\"M 60.77769 161.553109 \r\nL 60.77769 153.11549 \r\n\" style=\"fill:none;stroke:#8dd3c7;stroke-width:1.5;\"/>\r\n    <path clip-path=\"url(#p16bb8ac7df)\" d=\"M 66.989193 148.867239 \r\nL 66.989193 134.858103 \r\n\" style=\"fill:none;stroke:#8dd3c7;stroke-width:1.5;\"/>\r\n    <path clip-path=\"url(#p16bb8ac7df)\" d=\"M 73.200696 132.317392 \r\nL 73.200696 122.312051 \r\n\" style=\"fill:none;stroke:#8dd3c7;stroke-width:1.5;\"/>\r\n    <path clip-path=\"url(#p16bb8ac7df)\" d=\"M 79.412199 128.455589 \r\nL 79.412199 110.779199 \r\n\" style=\"fill:none;stroke:#8dd3c7;stroke-width:1.5;\"/>\r\n    <path clip-path=\"url(#p16bb8ac7df)\" d=\"M 85.623701 118.765696 \r\nL 85.623701 110.462566 \r\n\" style=\"fill:none;stroke:#8dd3c7;stroke-width:1.5;\"/>\r\n    <path clip-path=\"url(#p16bb8ac7df)\" d=\"M 91.835204 120.042765 \r\nL 91.835204 109.03155 \r\n\" style=\"fill:none;stroke:#8dd3c7;stroke-width:1.5;\"/>\r\n    <path clip-path=\"url(#p16bb8ac7df)\" d=\"M 98.046707 110.810475 \r\nL 98.046707 101.945506 \r\n\" style=\"fill:none;stroke:#8dd3c7;stroke-width:1.5;\"/>\r\n    <path clip-path=\"url(#p16bb8ac7df)\" d=\"M 104.25821 105.68252 \r\nL 104.25821 94.757736 \r\n\" style=\"fill:none;stroke:#8dd3c7;stroke-width:1.5;\"/>\r\n    <path clip-path=\"url(#p16bb8ac7df)\" d=\"M 110.469712 100.520414 \r\nL 110.469712 88.065957 \r\n\" style=\"fill:none;stroke:#8dd3c7;stroke-width:1.5;\"/>\r\n    <path clip-path=\"url(#p16bb8ac7df)\" d=\"M 116.681215 93.77413 \r\nL 116.681215 82.958357 \r\n\" style=\"fill:none;stroke:#8dd3c7;stroke-width:1.5;\"/>\r\n    <path clip-path=\"url(#p16bb8ac7df)\" d=\"M 122.892718 86.620834 \r\nL 122.892718 71.176227 \r\n\" style=\"fill:none;stroke:#8dd3c7;stroke-width:1.5;\"/>\r\n    <path clip-path=\"url(#p16bb8ac7df)\" d=\"M 129.104221 77.778002 \r\nL 129.104221 69.396747 \r\n\" style=\"fill:none;stroke:#8dd3c7;stroke-width:1.5;\"/>\r\n    <path clip-path=\"url(#p16bb8ac7df)\" d=\"M 135.315724 77.92741 \r\nL 135.315724 65.860514 \r\n\" style=\"fill:none;stroke:#8dd3c7;stroke-width:1.5;\"/>\r\n    <path clip-path=\"url(#p16bb8ac7df)\" d=\"M 141.527226 80.555249 \r\nL 141.527226 68.158966 \r\n\" style=\"fill:none;stroke:#8dd3c7;stroke-width:1.5;\"/>\r\n    <path clip-path=\"url(#p16bb8ac7df)\" d=\"M 147.738729 79.234271 \r\nL 147.738729 62.398402 \r\n\" style=\"fill:none;stroke:#8dd3c7;stroke-width:1.5;\"/>\r\n    <path clip-path=\"url(#p16bb8ac7df)\" d=\"M 153.950232 78.530753 \r\nL 153.950232 60.484828 \r\n\" style=\"fill:none;stroke:#8dd3c7;stroke-width:1.5;\"/>\r\n    <path clip-path=\"url(#p16bb8ac7df)\" d=\"M 160.161735 80.197347 \r\nL 160.161735 65.591883 \r\n\" style=\"fill:none;stroke:#8dd3c7;stroke-width:1.5;\"/>\r\n    <path clip-path=\"url(#p16bb8ac7df)\" d=\"M 166.373237 68.658005 \r\nL 166.373237 60.966837 \r\n\" style=\"fill:none;stroke:#8dd3c7;stroke-width:1.5;\"/>\r\n    <path clip-path=\"url(#p16bb8ac7df)\" d=\"M 172.58474 73.974531 \r\nL 172.58474 61.03844 \r\n\" style=\"fill:none;stroke:#8dd3c7;stroke-width:1.5;\"/>\r\n    <path clip-path=\"url(#p16bb8ac7df)\" d=\"M 178.796243 67.703024 \r\nL 178.796243 60.844191 \r\n\" style=\"fill:none;stroke:#8dd3c7;stroke-width:1.5;\"/>\r\n    <path clip-path=\"url(#p16bb8ac7df)\" d=\"M 185.007746 63.873316 \r\nL 185.007746 56.206839 \r\n\" style=\"fill:none;stroke:#8dd3c7;stroke-width:1.5;\"/>\r\n    <path clip-path=\"url(#p16bb8ac7df)\" d=\"M 191.219249 63.647117 \r\nL 191.219249 55.355412 \r\n\" style=\"fill:none;stroke:#8dd3c7;stroke-width:1.5;\"/>\r\n    <path clip-path=\"url(#p16bb8ac7df)\" d=\"M 197.430751 68.235289 \r\nL 197.430751 53.076439 \r\n\" style=\"fill:none;stroke:#8dd3c7;stroke-width:1.5;\"/>\r\n    <path clip-path=\"url(#p16bb8ac7df)\" d=\"M 203.642254 62.317311 \r\nL 203.642254 53.452341 \r\n\" style=\"fill:none;stroke:#8dd3c7;stroke-width:1.5;\"/>\r\n    <path clip-path=\"url(#p16bb8ac7df)\" d=\"M 209.853757 59.761735 \r\nL 209.853757 43.692193 \r\n\" style=\"fill:none;stroke:#8dd3c7;stroke-width:1.5;\"/>\r\n    <path clip-path=\"url(#p16bb8ac7df)\" d=\"M 216.06526 60.144724 \r\nL 216.06526 45.772348 \r\n\" style=\"fill:none;stroke:#8dd3c7;stroke-width:1.5;\"/>\r\n    <path clip-path=\"url(#p16bb8ac7df)\" d=\"M 222.276763 55.085977 \r\nL 222.276763 47.444271 \r\n\" style=\"fill:none;stroke:#8dd3c7;stroke-width:1.5;\"/>\r\n    <path clip-path=\"url(#p16bb8ac7df)\" d=\"M 228.488265 52.918897 \r\nL 228.488265 36.218002 \r\n\" style=\"fill:none;stroke:#8dd3c7;stroke-width:1.5;\"/>\r\n    <path clip-path=\"url(#p16bb8ac7df)\" d=\"M 234.699768 49.563431 \r\nL 234.699768 35.262964 \r\n\" style=\"fill:none;stroke:#8dd3c7;stroke-width:1.5;\"/>\r\n    <path clip-path=\"url(#p16bb8ac7df)\" d=\"M 240.911271 48.367401 \r\nL 240.911271 26.606414 \r\n\" style=\"fill:none;stroke:#8dd3c7;stroke-width:1.5;\"/>\r\n    <path clip-path=\"url(#p16bb8ac7df)\" d=\"M 247.122774 46.111245 \r\nL 247.122774 30.094143 \r\n\" style=\"fill:none;stroke:#8dd3c7;stroke-width:1.5;\"/>\r\n    <path clip-path=\"url(#p16bb8ac7df)\" d=\"M 253.334276 41.145427 \r\nL 253.334276 23.667916 \r\n\" style=\"fill:none;stroke:#8dd3c7;stroke-width:1.5;\"/>\r\n    <path clip-path=\"url(#p16bb8ac7df)\" d=\"M 259.545779 42.321888 \r\nL 259.545779 29.111157 \r\n\" style=\"fill:none;stroke:#8dd3c7;stroke-width:1.5;\"/>\r\n    <path clip-path=\"url(#p16bb8ac7df)\" d=\"M 265.757282 41.691516 \r\nL 265.757282 26.97049 \r\n\" style=\"fill:none;stroke:#8dd3c7;stroke-width:1.5;\"/>\r\n    <path clip-path=\"url(#p16bb8ac7df)\" d=\"M 271.968785 33.9933 \r\nL 271.968785 25.277967 \r\n\" style=\"fill:none;stroke:#8dd3c7;stroke-width:1.5;\"/>\r\n    <path clip-path=\"url(#p16bb8ac7df)\" d=\"M 278.180288 33.705975 \r\nL 278.180288 18.329804 \r\n\" style=\"fill:none;stroke:#8dd3c7;stroke-width:1.5;\"/>\r\n    <path clip-path=\"url(#p16bb8ac7df)\" d=\"M 284.39179 37.409934 \r\nL 284.39179 22.169226 \r\n\" style=\"fill:none;stroke:#8dd3c7;stroke-width:1.5;\"/>\r\n    <path clip-path=\"url(#p16bb8ac7df)\" d=\"M 290.603293 36.182162 \r\nL 290.603293 23.704891 \r\n\" style=\"fill:none;stroke:#8dd3c7;stroke-width:1.5;\"/>\r\n    <path clip-path=\"url(#p16bb8ac7df)\" d=\"M 296.814796 38.427114 \r\nL 296.814796 20.844153 \r\n\" style=\"fill:none;stroke:#8dd3c7;stroke-width:1.5;\"/>\r\n    <path clip-path=\"url(#p16bb8ac7df)\" d=\"M 303.026299 35.001796 \r\nL 303.026299 20.7287 \r\n\" style=\"fill:none;stroke:#8dd3c7;stroke-width:1.5;\"/>\r\n    <path clip-path=\"url(#p16bb8ac7df)\" d=\"M 309.237801 34.798196 \r\nL 309.237801 17.083636 \r\n\" style=\"fill:none;stroke:#8dd3c7;stroke-width:1.5;\"/>\r\n    <path clip-path=\"url(#p16bb8ac7df)\" d=\"M 315.449304 34.115577 \r\nL 315.449304 24.539904 \r\n\" style=\"fill:none;stroke:#8dd3c7;stroke-width:1.5;\"/>\r\n    <path clip-path=\"url(#p16bb8ac7df)\" d=\"M 321.660807 29.386196 \r\nL 321.660807 21.725904 \r\n\" style=\"fill:none;stroke:#8dd3c7;stroke-width:1.5;\"/>\r\n    <path clip-path=\"url(#p16bb8ac7df)\" d=\"M 327.87231 35.463759 \r\nL 327.87231 21.652256 \r\n\" style=\"fill:none;stroke:#8dd3c7;stroke-width:1.5;\"/>\r\n    <path clip-path=\"url(#p16bb8ac7df)\" d=\"M 334.083813 33.35749 \r\nL 334.083813 19.140128 \r\n\" style=\"fill:none;stroke:#8dd3c7;stroke-width:1.5;\"/>\r\n    <path clip-path=\"url(#p16bb8ac7df)\" d=\"M 340.295315 34.590599 \r\nL 340.295315 22.37147 \r\n\" style=\"fill:none;stroke:#8dd3c7;stroke-width:1.5;\"/>\r\n    <path clip-path=\"url(#p16bb8ac7df)\" d=\"M 346.506818 31.861305 \r\nL 346.506818 17.403436 \r\n\" style=\"fill:none;stroke:#8dd3c7;stroke-width:1.5;\"/>\r\n   </g>\r\n   <g id=\"line2d_13\">\r\n    <path clip-path=\"url(#p16bb8ac7df)\" d=\"M 42.143182 214.756364 \r\nL 48.354685 198.130136 \r\nL 54.566187 163.184268 \r\nL 60.77769 157.334299 \r\nL 66.989193 141.862671 \r\nL 73.200696 127.314721 \r\nL 79.412199 119.617394 \r\nL 85.623701 114.614131 \r\nL 91.835204 114.537158 \r\nL 98.046707 106.37799 \r\nL 104.25821 100.220128 \r\nL 110.469712 94.293186 \r\nL 116.681215 88.366244 \r\nL 122.892718 78.89853 \r\nL 129.104221 73.587374 \r\nL 135.315724 71.893962 \r\nL 141.527226 74.357107 \r\nL 147.738729 70.816336 \r\nL 153.950232 69.507791 \r\nL 160.161735 72.894615 \r\nL 166.373237 64.812421 \r\nL 172.58474 67.506486 \r\nL 178.796243 64.273608 \r\nL 185.007746 60.040078 \r\nL 191.219249 59.501265 \r\nL 197.430751 60.655864 \r\nL 203.642254 57.884826 \r\nL 209.853757 51.726964 \r\nL 216.06526 52.958536 \r\nL 222.276763 51.265124 \r\nL 228.488265 44.568449 \r\nL 234.699768 42.413197 \r\nL 240.911271 37.486908 \r\nL 247.122774 38.102694 \r\nL 253.334276 32.406671 \r\nL 259.545779 35.716522 \r\nL 265.757282 34.331003 \r\nL 271.968785 29.635633 \r\nL 278.180288 26.017889 \r\nL 284.39179 29.78958 \r\nL 290.603293 29.943527 \r\nL 296.814796 29.635633 \r\nL 303.026299 27.865248 \r\nL 309.237801 25.940916 \r\nL 315.449304 29.32774 \r\nL 321.660807 25.55605 \r\nL 327.87231 28.558008 \r\nL 334.083813 26.248809 \r\nL 340.295315 28.481034 \r\nL 346.506818 24.632371 \r\n\" style=\"fill:none;stroke:#8dd3c7;stroke-linecap:square;stroke-width:1.5;\"/>\r\n   </g>\r\n   <g id=\"patch_3\">\r\n    <path d=\"M 26.925 224.64 \r\nL 26.925 7.2 \r\n\" style=\"fill:none;stroke:#ffffff;stroke-linecap:square;stroke-linejoin:miter;stroke-width:0.8;\"/>\r\n   </g>\r\n   <g id=\"patch_4\">\r\n    <path d=\"M 361.725 224.64 \r\nL 361.725 7.2 \r\n\" style=\"fill:none;stroke:#ffffff;stroke-linecap:square;stroke-linejoin:miter;stroke-width:0.8;\"/>\r\n   </g>\r\n   <g id=\"patch_5\">\r\n    <path d=\"M 26.925 224.64 \r\nL 361.725 224.64 \r\n\" style=\"fill:none;stroke:#ffffff;stroke-linecap:square;stroke-linejoin:miter;stroke-width:0.8;\"/>\r\n   </g>\r\n   <g id=\"patch_6\">\r\n    <path d=\"M 26.925 7.2 \r\nL 361.725 7.2 \r\n\" style=\"fill:none;stroke:#ffffff;stroke-linecap:square;stroke-linejoin:miter;stroke-width:0.8;\"/>\r\n   </g>\r\n  </g>\r\n </g>\r\n <defs>\r\n  <clipPath id=\"p16bb8ac7df\">\r\n   <rect height=\"217.44\" width=\"334.8\" x=\"26.925\" y=\"7.2\"/>\r\n  </clipPath>\r\n </defs>\r\n</svg>\r\n",
      "image/png": "[encoded data removed]"
     },
     "metadata": {}
    }
   ],
   "source": [
    "plt.errorbar(np.arange(1, 51), M_mean_winnow, M_std_winnow)"
   ]
  },
  {
   "cell_type": "code",
   "execution_count": null,
   "metadata": {},
   "outputs": [],
   "source": [
    "M_mean_lsq, M_std_lsq = complexity(50, 500, \"least_squares\")"
   ]
  },
  {
   "cell_type": "code",
   "execution_count": null,
   "metadata": {},
   "outputs": [],
   "source": [
    "plt.errorbar(np.arange(1, 51), M_mean_lsq, M_std_lsq)"
   ]
  },
  {
   "cell_type": "code",
   "execution_count": null,
   "metadata": {},
   "outputs": [],
   "source": [
    "# %%time\n",
    "# M_mean_list, M_std_list = long_long_long_computation(100, 500)"
   ]
  }
 ],
 "metadata": {
  "kernelspec": {
   "name": "python3",
   "display_name": "Python 3.6.8 64-bit",
   "metadata": {
    "interpreter": {
     "hash": "97960be5a5d3fef6304886bede54fcdcb7d6e235f595a35c8a79c7c177f76fb2"
    }
   }
  },
  "language_info": {
   "codemirror_mode": {
    "name": "ipython",
    "version": 3
   },
   "file_extension": ".py",
   "mimetype": "text/x-python",
   "name": "python",
   "nbconvert_exporter": "python",
   "pygments_lexer": "ipython3",
   "version": "3.6.8-final"
  }
 },
 "nbformat": 4,
 "nbformat_minor": 5
}